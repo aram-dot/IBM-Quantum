{
  "nbformat": 4,
  "nbformat_minor": 0,
  "metadata": {
    "colab": {
      "provenance": []
    },
    "kernelspec": {
      "name": "python3",
      "display_name": "Python 3"
    }
  },
  "cells": [
    {
      "cell_type": "markdown",
      "source": [
        "![download.png](data:image/png;base64,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)\n",
        "\n",
        ">\n",
        "\n"
      ],
      "metadata": {
        "id": "1F4Bv4yrjd0N"
      }
    },
    {
      "cell_type": "markdown",
      "source": [
        "# **IBM Q setup**\n",
        "\n",
        "\n",
        "\n",
        "\n",
        "This tutorial will walk you through the configuration for your IBM Q Experience account so that, in the future, you are able to run your Quantum Programs in both online simulators as well as real Quantum Computers.\n",
        "\n",
        "\n"
      ],
      "metadata": {
        "id": "NHOpoubNkDSs"
      }
    },
    {
      "cell_type": "code",
      "source": [
        "!pip install qiskit"
      ],
      "metadata": {
        "colab": {
          "base_uri": "https://localhost:8080/"
        },
        "id": "43Z90gSJm28N",
        "outputId": "c0909638-cfd2-47ac-8d3e-22bded4d30e6"
      },
      "execution_count": null,
      "outputs": [
        {
          "output_type": "stream",
          "name": "stdout",
          "text": [
            "Requirement already satisfied: qiskit in /usr/local/lib/python3.10/dist-packages (0.44.2)\n",
            "Requirement already satisfied: qiskit-terra==0.25.2.1 in /usr/local/lib/python3.10/dist-packages (from qiskit) (0.25.2.1)\n",
            "Requirement already satisfied: rustworkx>=0.13.0 in /usr/local/lib/python3.10/dist-packages (from qiskit-terra==0.25.2.1->qiskit) (0.13.2)\n",
            "Requirement already satisfied: numpy>=1.17 in /usr/local/lib/python3.10/dist-packages (from qiskit-terra==0.25.2.1->qiskit) (1.23.5)\n",
            "Requirement already satisfied: ply>=3.10 in /usr/local/lib/python3.10/dist-packages (from qiskit-terra==0.25.2.1->qiskit) (3.11)\n",
            "Requirement already satisfied: psutil>=5 in /usr/local/lib/python3.10/dist-packages (from qiskit-terra==0.25.2.1->qiskit) (5.9.5)\n",
            "Requirement already satisfied: scipy>=1.5 in /usr/local/lib/python3.10/dist-packages (from qiskit-terra==0.25.2.1->qiskit) (1.11.3)\n",
            "Requirement already satisfied: sympy>=1.3 in /usr/local/lib/python3.10/dist-packages (from qiskit-terra==0.25.2.1->qiskit) (1.12)\n",
            "Requirement already satisfied: dill>=0.3 in /usr/local/lib/python3.10/dist-packages (from qiskit-terra==0.25.2.1->qiskit) (0.3.7)\n",
            "Requirement already satisfied: python-dateutil>=2.8.0 in /usr/local/lib/python3.10/dist-packages (from qiskit-terra==0.25.2.1->qiskit) (2.8.2)\n",
            "Requirement already satisfied: stevedore>=3.0.0 in /usr/local/lib/python3.10/dist-packages (from qiskit-terra==0.25.2.1->qiskit) (5.1.0)\n",
            "Requirement already satisfied: symengine<0.10,>=0.9 in /usr/local/lib/python3.10/dist-packages (from qiskit-terra==0.25.2.1->qiskit) (0.9.2)\n",
            "Requirement already satisfied: typing-extensions in /usr/local/lib/python3.10/dist-packages (from qiskit-terra==0.25.2.1->qiskit) (4.5.0)\n",
            "Requirement already satisfied: six>=1.5 in /usr/local/lib/python3.10/dist-packages (from python-dateutil>=2.8.0->qiskit-terra==0.25.2.1->qiskit) (1.16.0)\n",
            "Requirement already satisfied: pbr!=2.1.0,>=2.0.0 in /usr/local/lib/python3.10/dist-packages (from stevedore>=3.0.0->qiskit-terra==0.25.2.1->qiskit) (5.11.1)\n",
            "Requirement already satisfied: mpmath>=0.19 in /usr/local/lib/python3.10/dist-packages (from sympy>=1.3->qiskit-terra==0.25.2.1->qiskit) (1.3.0)\n"
          ]
        }
      ]
    },
    {
      "cell_type": "code",
      "source": [
        "!pip install qiskit-ibmq-provider"
      ],
      "metadata": {
        "colab": {
          "base_uri": "https://localhost:8080/"
        },
        "id": "pma8SHjY3oFd",
        "outputId": "1bdb2a52-f8d4-42f2-87ee-696794897298"
      },
      "execution_count": null,
      "outputs": [
        {
          "output_type": "stream",
          "name": "stdout",
          "text": [
            "Requirement already satisfied: qiskit-ibmq-provider in /usr/local/lib/python3.10/dist-packages (0.20.2)\n",
            "Requirement already satisfied: qiskit-terra>=0.18.0 in /usr/local/lib/python3.10/dist-packages (from qiskit-ibmq-provider) (0.25.2.1)\n",
            "Requirement already satisfied: requests>=2.19 in /usr/local/lib/python3.10/dist-packages (from qiskit-ibmq-provider) (2.31.0)\n",
            "Requirement already satisfied: requests-ntlm<=1.1.0 in /usr/local/lib/python3.10/dist-packages (from qiskit-ibmq-provider) (1.1.0)\n",
            "Requirement already satisfied: numpy<1.24 in /usr/local/lib/python3.10/dist-packages (from qiskit-ibmq-provider) (1.23.5)\n",
            "Requirement already satisfied: urllib3>=1.21.1 in /usr/local/lib/python3.10/dist-packages (from qiskit-ibmq-provider) (1.26.18)\n",
            "Requirement already satisfied: python-dateutil>=2.8.0 in /usr/local/lib/python3.10/dist-packages (from qiskit-ibmq-provider) (2.8.2)\n",
            "Requirement already satisfied: websocket-client>=1.5.1 in /usr/local/lib/python3.10/dist-packages (from qiskit-ibmq-provider) (1.6.4)\n",
            "Requirement already satisfied: websockets>=10.0 in /usr/local/lib/python3.10/dist-packages (from qiskit-ibmq-provider) (12.0)\n",
            "Requirement already satisfied: six>=1.5 in /usr/local/lib/python3.10/dist-packages (from python-dateutil>=2.8.0->qiskit-ibmq-provider) (1.16.0)\n",
            "Requirement already satisfied: rustworkx>=0.13.0 in /usr/local/lib/python3.10/dist-packages (from qiskit-terra>=0.18.0->qiskit-ibmq-provider) (0.13.2)\n",
            "Requirement already satisfied: ply>=3.10 in /usr/local/lib/python3.10/dist-packages (from qiskit-terra>=0.18.0->qiskit-ibmq-provider) (3.11)\n",
            "Requirement already satisfied: psutil>=5 in /usr/local/lib/python3.10/dist-packages (from qiskit-terra>=0.18.0->qiskit-ibmq-provider) (5.9.5)\n",
            "Requirement already satisfied: scipy>=1.5 in /usr/local/lib/python3.10/dist-packages (from qiskit-terra>=0.18.0->qiskit-ibmq-provider) (1.11.3)\n",
            "Requirement already satisfied: sympy>=1.3 in /usr/local/lib/python3.10/dist-packages (from qiskit-terra>=0.18.0->qiskit-ibmq-provider) (1.12)\n",
            "Requirement already satisfied: dill>=0.3 in /usr/local/lib/python3.10/dist-packages (from qiskit-terra>=0.18.0->qiskit-ibmq-provider) (0.3.7)\n",
            "Requirement already satisfied: stevedore>=3.0.0 in /usr/local/lib/python3.10/dist-packages (from qiskit-terra>=0.18.0->qiskit-ibmq-provider) (5.1.0)\n",
            "Requirement already satisfied: symengine<0.10,>=0.9 in /usr/local/lib/python3.10/dist-packages (from qiskit-terra>=0.18.0->qiskit-ibmq-provider) (0.9.2)\n",
            "Requirement already satisfied: typing-extensions in /usr/local/lib/python3.10/dist-packages (from qiskit-terra>=0.18.0->qiskit-ibmq-provider) (4.5.0)\n",
            "Requirement already satisfied: charset-normalizer<4,>=2 in /usr/local/lib/python3.10/dist-packages (from requests>=2.19->qiskit-ibmq-provider) (3.3.0)\n",
            "Requirement already satisfied: idna<4,>=2.5 in /usr/local/lib/python3.10/dist-packages (from requests>=2.19->qiskit-ibmq-provider) (3.4)\n",
            "Requirement already satisfied: certifi>=2017.4.17 in /usr/local/lib/python3.10/dist-packages (from requests>=2.19->qiskit-ibmq-provider) (2023.7.22)\n",
            "Requirement already satisfied: ntlm-auth>=1.0.2 in /usr/local/lib/python3.10/dist-packages (from requests-ntlm<=1.1.0->qiskit-ibmq-provider) (1.5.0)\n",
            "Requirement already satisfied: cryptography>=1.3 in /usr/local/lib/python3.10/dist-packages (from requests-ntlm<=1.1.0->qiskit-ibmq-provider) (41.0.4)\n",
            "Requirement already satisfied: cffi>=1.12 in /usr/local/lib/python3.10/dist-packages (from cryptography>=1.3->requests-ntlm<=1.1.0->qiskit-ibmq-provider) (1.16.0)\n",
            "Requirement already satisfied: pbr!=2.1.0,>=2.0.0 in /usr/local/lib/python3.10/dist-packages (from stevedore>=3.0.0->qiskit-terra>=0.18.0->qiskit-ibmq-provider) (5.11.1)\n",
            "Requirement already satisfied: mpmath>=0.19 in /usr/local/lib/python3.10/dist-packages (from sympy>=1.3->qiskit-terra>=0.18.0->qiskit-ibmq-provider) (1.3.0)\n",
            "Requirement already satisfied: pycparser in /usr/local/lib/python3.10/dist-packages (from cffi>=1.12->cryptography>=1.3->requests-ntlm<=1.1.0->qiskit-ibmq-provider) (2.21)\n"
          ]
        }
      ]
    },
    {
      "cell_type": "code",
      "source": [
        "!pip install qiskit-aer"
      ],
      "metadata": {
        "colab": {
          "base_uri": "https://localhost:8080/"
        },
        "id": "FskeOZarBUV2",
        "outputId": "9e77b0a5-48a4-4953-b24c-5bc30ee643d7"
      },
      "execution_count": null,
      "outputs": [
        {
          "output_type": "stream",
          "name": "stdout",
          "text": [
            "Requirement already satisfied: qiskit-aer in /usr/local/lib/python3.10/dist-packages (0.12.2)\n",
            "Requirement already satisfied: qiskit-terra>=0.21.0 in /usr/local/lib/python3.10/dist-packages (from qiskit-aer) (0.25.2.1)\n",
            "Requirement already satisfied: numpy>=1.16.3 in /usr/local/lib/python3.10/dist-packages (from qiskit-aer) (1.23.5)\n",
            "Requirement already satisfied: scipy>=1.0 in /usr/local/lib/python3.10/dist-packages (from qiskit-aer) (1.11.3)\n",
            "Requirement already satisfied: rustworkx>=0.13.0 in /usr/local/lib/python3.10/dist-packages (from qiskit-terra>=0.21.0->qiskit-aer) (0.13.2)\n",
            "Requirement already satisfied: ply>=3.10 in /usr/local/lib/python3.10/dist-packages (from qiskit-terra>=0.21.0->qiskit-aer) (3.11)\n",
            "Requirement already satisfied: psutil>=5 in /usr/local/lib/python3.10/dist-packages (from qiskit-terra>=0.21.0->qiskit-aer) (5.9.5)\n",
            "Requirement already satisfied: sympy>=1.3 in /usr/local/lib/python3.10/dist-packages (from qiskit-terra>=0.21.0->qiskit-aer) (1.12)\n",
            "Requirement already satisfied: dill>=0.3 in /usr/local/lib/python3.10/dist-packages (from qiskit-terra>=0.21.0->qiskit-aer) (0.3.7)\n",
            "Requirement already satisfied: python-dateutil>=2.8.0 in /usr/local/lib/python3.10/dist-packages (from qiskit-terra>=0.21.0->qiskit-aer) (2.8.2)\n",
            "Requirement already satisfied: stevedore>=3.0.0 in /usr/local/lib/python3.10/dist-packages (from qiskit-terra>=0.21.0->qiskit-aer) (5.1.0)\n",
            "Requirement already satisfied: symengine<0.10,>=0.9 in /usr/local/lib/python3.10/dist-packages (from qiskit-terra>=0.21.0->qiskit-aer) (0.9.2)\n",
            "Requirement already satisfied: typing-extensions in /usr/local/lib/python3.10/dist-packages (from qiskit-terra>=0.21.0->qiskit-aer) (4.5.0)\n",
            "Requirement already satisfied: six>=1.5 in /usr/local/lib/python3.10/dist-packages (from python-dateutil>=2.8.0->qiskit-terra>=0.21.0->qiskit-aer) (1.16.0)\n",
            "Requirement already satisfied: pbr!=2.1.0,>=2.0.0 in /usr/local/lib/python3.10/dist-packages (from stevedore>=3.0.0->qiskit-terra>=0.21.0->qiskit-aer) (5.11.1)\n",
            "Requirement already satisfied: mpmath>=0.19 in /usr/local/lib/python3.10/dist-packages (from sympy>=1.3->qiskit-terra>=0.21.0->qiskit-aer) (1.3.0)\n"
          ]
        }
      ]
    },
    {
      "cell_type": "markdown",
      "source": [
        "# **Execute on a Real Device (IBM Q Experience)**\n",
        "\n",
        "\n",
        "You can use Qiskit to run your circuits on real quantum computers using the IBMQ provider.To access IBMQ devices, you'll need an API token. For the public Quantum Experience devices, you can generate an API token here:\n",
        "\n",
        "https://quantum-computing.ibm.com/\n",
        "\n",
        "*(create an account if you don't already have one)*"
      ],
      "metadata": {
        "id": "stkpJoEkk6H8"
      }
    },
    {
      "cell_type": "code",
      "source": [
        "from qiskit import IBMQ\n",
        "\n",
        "IBMQ.save_account(\"4fd8b3617cb6b75504a0f0952fb2223afc228e9b43640b5df8fc4c44127e099d59e8626a1c8cc557975e02b362f395e867877d432ac8581962b9319bfb152611\")\n",
        "IBMQ.load_account() # Load account from disk\n",
        "IBMQ.providers()"
      ],
      "metadata": {
        "colab": {
          "base_uri": "https://localhost:8080/"
        },
        "id": "Z61i-cQhhB9D",
        "outputId": "7b73b45b-ec97-476c-babc-a69c8763b0a1"
      },
      "execution_count": null,
      "outputs": [
        {
          "output_type": "stream",
          "name": "stderr",
          "text": [
            "configrc.store_credentials:WARNING:2023-10-22 07:51:10,363: Credentials already present. Set overwrite=True to overwrite.\n",
            "ibmqfactory.load_account:WARNING:2023-10-22 07:51:10,780: Credentials are already in use. The existing account in the session will be replaced.\n"
          ]
        },
        {
          "output_type": "execute_result",
          "data": {
            "text/plain": [
              "[<AccountProvider for IBMQ(hub='ibm-q', group='open', project='main')>]"
            ]
          },
          "metadata": {},
          "execution_count": 55
        }
      ]
    },
    {
      "cell_type": "markdown",
      "source": [
        "# **Loading Qiskit account gives:**\n",
        "\n",
        "> # RequestsApiError: 401 Client Error\n",
        "\n",
        "\n",
        "\n",
        " I successfully installed qiskit,\n",
        "\n",
        " yet I am unable to load my account in the Jupyter notebook :(\n",
        "\n",
        "Each time I load my account in Jupyter/colab notebook here is the response I get:\n",
        "\n",
        "\n",
        "\n",
        "```\n",
        "# RequestsApiError: 401 Client Error: Unauthorized for url:\n",
        "\n",
        " https://auth.quantum-computing.ibm.com/api/users/loginWithToken.\n",
        "\n",
        "  LOGIN_FAILED, Error code: LOGIN_FAILED.\n",
        "```\n",
        "\n",
        "\n",
        "This is a way to how to fix it :)\n",
        "\n",
        "\n",
        "\n",
        "```\n",
        "IBMQ.delete_account()\n",
        "```\n",
        "\n",
        "By deleting account, you should not be having any active accounts from IBMQ api. check that by getting active accounts:\n",
        "\n",
        "\n",
        "```\n",
        "IBMQ.active_account()\n",
        "```\n",
        "\n",
        "\n",
        "After which generate a new token in your IBMQ experience website,\n",
        "\n",
        " https://quantum-computing.ibm.com/account\n",
        "\n",
        "\n",
        "And then copy the new token, save that as a variable (API_KEY), then save account in IBMQ:\n",
        "\n",
        "\n",
        "\n",
        "```\n",
        "IBMQ.save_account('API_KEY')\n",
        "```\n",
        "\n",
        "\n",
        "\n",
        "\n",
        "\n"
      ],
      "metadata": {
        "id": "t8o_cJXVCSrl"
      }
    },
    {
      "cell_type": "markdown",
      "source": [
        "# **Which backends are available right now?**\n",
        "\n",
        "\n",
        "A backend is either an online Quantum simulator or a Quantum Computer.\n",
        "\n",
        "This is how you can list them by name:"
      ],
      "metadata": {
        "id": "qXG6WookoAvd"
      }
    },
    {
      "cell_type": "code",
      "source": [
        "for backend in provider.backends():\n",
        "    print(backend)"
      ],
      "metadata": {
        "id": "cSZTquZ6oRJd",
        "colab": {
          "base_uri": "https://localhost:8080/"
        },
        "outputId": "ada62bf1-49ab-4eaa-edc2-75afbbf71a22"
      },
      "execution_count": null,
      "outputs": [
        {
          "output_type": "stream",
          "name": "stdout",
          "text": [
            "ibmq_qasm_simulator\n",
            "simulator_statevector\n",
            "simulator_mps\n",
            "simulator_extended_stabilizer\n",
            "simulator_stabilizer\n",
            "ibm_lagos\n",
            "ibm_nairobi\n",
            "ibm_perth\n",
            "ibm_brisbane\n"
          ]
        }
      ]
    },
    {
      "cell_type": "code",
      "source": [
        "from qiskit import IBMQ, Aer\n",
        "provider = IBMQ.load_account()\n",
        "available_cloud_backends = provider.backends()\n",
        "print('\\n Cloud backends:')\n",
        "for i in available_cloud_backends:\n",
        "  print(i)\n",
        "\n",
        "available_local_backends = Aer.backends()\n",
        "print('\\n Local backends: ')\n",
        "for i in available_local_backends:\n",
        "  print(i)"
      ],
      "metadata": {
        "id": "nbcEKvkOk3Gk",
        "colab": {
          "base_uri": "https://localhost:8080/"
        },
        "outputId": "ad38f498-1201-4c45-e2ca-e92a07eb39f6"
      },
      "execution_count": null,
      "outputs": [
        {
          "output_type": "stream",
          "name": "stderr",
          "text": [
            "ibmqfactory.load_account:WARNING:2023-10-22 07:51:31,355: Credentials are already in use. The existing account in the session will be replaced.\n"
          ]
        },
        {
          "output_type": "stream",
          "name": "stdout",
          "text": [
            "\n",
            " Cloud backends:\n",
            "ibmq_qasm_simulator\n",
            "simulator_statevector\n",
            "simulator_mps\n",
            "simulator_extended_stabilizer\n",
            "simulator_stabilizer\n",
            "ibm_lagos\n",
            "ibm_nairobi\n",
            "ibm_perth\n",
            "ibm_brisbane\n",
            "\n",
            " Local backends: \n",
            "aer_simulator\n",
            "aer_simulator_statevector\n",
            "aer_simulator_density_matrix\n",
            "aer_simulator_stabilizer\n",
            "aer_simulator_matrix_product_state\n",
            "aer_simulator_extended_stabilizer\n",
            "aer_simulator_unitary\n",
            "aer_simulator_superop\n",
            "qasm_simulator\n",
            "statevector_simulator\n",
            "unitary_simulator\n",
            "pulse_simulator\n"
          ]
        }
      ]
    },
    {
      "cell_type": "code",
      "source": [
        "from qiskit import IBMQ\n",
        "#provider = IBMQ.load_account() # We load our account\n",
        "provider.backends() # We retrieve the backends to check their status\n",
        "\n",
        "for b in provider.backends():\n",
        "    print(b.status().to_dict())"
      ],
      "metadata": {
        "id": "YYPqdTz13v2D",
        "colab": {
          "base_uri": "https://localhost:8080/"
        },
        "outputId": "32836d2e-aa4d-445f-dcf0-3d8bf4ab35ac"
      },
      "execution_count": null,
      "outputs": [
        {
          "output_type": "stream",
          "name": "stdout",
          "text": [
            "{'backend_name': 'ibmq_qasm_simulator', 'backend_version': '0.1.547', 'operational': True, 'pending_jobs': 0, 'status_msg': 'active'}\n",
            "{'backend_name': 'simulator_statevector', 'backend_version': '0.1.547', 'operational': True, 'pending_jobs': 0, 'status_msg': 'active'}\n",
            "{'backend_name': 'simulator_mps', 'backend_version': '0.1.547', 'operational': True, 'pending_jobs': 0, 'status_msg': 'active'}\n",
            "{'backend_name': 'simulator_extended_stabilizer', 'backend_version': '0.1.547', 'operational': True, 'pending_jobs': 0, 'status_msg': 'active'}\n",
            "{'backend_name': 'simulator_stabilizer', 'backend_version': '0.1.547', 'operational': True, 'pending_jobs': 0, 'status_msg': 'active'}\n",
            "{'backend_name': 'ibm_lagos', 'backend_version': '1.6.2', 'operational': True, 'pending_jobs': 9, 'status_msg': 'active'}\n",
            "{'backend_name': 'ibm_nairobi', 'backend_version': '1.3.3', 'operational': True, 'pending_jobs': 6, 'status_msg': 'active'}\n",
            "{'backend_name': 'ibm_perth', 'backend_version': '1.2.8', 'operational': True, 'pending_jobs': 4526, 'status_msg': 'active'}\n",
            "{'backend_name': 'ibm_brisbane', 'backend_version': '1.1.6', 'operational': True, 'pending_jobs': 5, 'status_msg': 'active'}\n"
          ]
        }
      ]
    },
    {
      "cell_type": "code",
      "source": [
        "# choose backend efficiently\n",
        "provider = IBMQ.get_provider(\"ibm-q\")\n",
        "\n",
        "for backend in provider.backends():\n",
        "  try:\n",
        "    qubit_count = len(backend.properties().qubits)\n",
        "  except:\n",
        "    qubit_count = \"simulated\"\n",
        "\n",
        "  print(f\"{backend.name()} has {backend.status().pending_jobs} queued and {qubit_count} qubits\")"
      ],
      "metadata": {
        "colab": {
          "base_uri": "https://localhost:8080/"
        },
        "id": "CcE32C8VHm82",
        "outputId": "ec56b9a3-34f5-45be-cd1c-f99dadab54e0"
      },
      "execution_count": null,
      "outputs": [
        {
          "output_type": "stream",
          "name": "stdout",
          "text": [
            "ibmq_qasm_simulator has 0 queued and simulated qubits\n",
            "simulator_statevector has 0 queued and simulated qubits\n",
            "simulator_mps has 0 queued and simulated qubits\n",
            "simulator_extended_stabilizer has 0 queued and simulated qubits\n",
            "simulator_stabilizer has 0 queued and simulated qubits\n",
            "ibm_lagos has 9 queued and 7 qubits\n",
            "ibm_nairobi has 7 queued and 7 qubits\n",
            "ibm_perth has 4525 queued and 7 qubits\n",
            "ibm_brisbane has 5 queued and 127 qubits\n"
          ]
        }
      ]
    },
    {
      "cell_type": "markdown",
      "source": [
        "# **Defining Quantum Circuits**\n",
        "\n",
        "Next we have to build our quantum circuits, which actually work together with classical bits.\n",
        "\n",
        "For example, the following code will build a 2 qubit, 2 classical bit circuit:"
      ],
      "metadata": {
        "id": "fAVb4fzPaBUT"
      }
    },
    {
      "cell_type": "code",
      "source": [
        "import qiskit as q\n",
        "%matplotlib inline\n",
        "\n",
        "# build a 2 qubit, 2 classical circuit\n",
        "circuit = q.QuantumCircuit(2,2)\n",
        "\n",
        "# apply a NOT gate to qubit 0, currently 0,0\n",
        "circuit.x(0)\n",
        "# now 10\n",
        "\n",
        "# apply a CNOT gate, which flips 2nd qubit value if first qubit is a 1\n",
        "circuit.cx(0, 1)\n",
        "# now 11\n",
        "\n",
        "# take the measurement\n",
        "circuit.measure([0, 1], [0, 1])\n",
        "circuit.draw()"
      ],
      "metadata": {
        "colab": {
          "base_uri": "https://localhost:8080/",
          "height": 125
        },
        "id": "k1n4Qy8j3yb8",
        "outputId": "ad7ea1ac-9a09-4a24-c5ad-0a62aa4397a0"
      },
      "execution_count": null,
      "outputs": [
        {
          "output_type": "execute_result",
          "data": {
            "text/plain": [
              "     ┌───┐     ┌─┐   \n",
              "q_0: ┤ X ├──■──┤M├───\n",
              "     └───┘┌─┴─┐└╥┘┌─┐\n",
              "q_1: ─────┤ X ├─╫─┤M├\n",
              "          └───┘ ║ └╥┘\n",
              "c: 2/═══════════╩══╩═\n",
              "                0  1 "
            ],
            "text/html": [
              "<pre style=\"word-wrap: normal;white-space: pre;background: #fff0;line-height: 1.1;font-family: &quot;Courier New&quot;,Courier,monospace\">     ┌───┐     ┌─┐   \n",
              "q_0: ┤ X ├──■──┤M├───\n",
              "     └───┘┌─┴─┐└╥┘┌─┐\n",
              "q_1: ─────┤ X ├─╫─┤M├\n",
              "          └───┘ ║ └╥┘\n",
              "c: 2/═══════════╩══╩═\n",
              "                0  1 </pre>"
            ]
          },
          "metadata": {},
          "execution_count": 60
        }
      ]
    },
    {
      "cell_type": "markdown",
      "source": [
        "# **Running Circuits on the IBM Quantum Computer**\n",
        "\n",
        "Let's go with `imb...` since the queue is not that long and has enough qubits for our job.\n",
        "\n",
        "Now we can choose that backend to run our circuit, and we can specify the number of shots, which is how number of repetitions of each circuit, to make sure we get an adequate representation:"
      ],
      "metadata": {
        "id": "op_1YFtyaa_Z"
      }
    },
    {
      "cell_type": "code",
      "source": [
        "from qiskit.tools.monitor import job_monitor\n",
        "\n",
        "backend = provider.get_backend(\"ibm_brisbane\")\n",
        "job = q.execute(circuit, backend=backend, shots=500)\n",
        "job_monitor(job)"
      ],
      "metadata": {
        "id": "m31de9yU6Oc6"
      },
      "execution_count": null,
      "outputs": []
    },
    {
      "cell_type": "markdown",
      "source": [
        "We can now visualize our result with the following code:"
      ],
      "metadata": {
        "id": "GNAvFa3lbKWs"
      }
    },
    {
      "cell_type": "code",
      "source": [
        "from qiskit.visualization import plot_histogram\n",
        "\n",
        "result = job.result()\n",
        "counts = result.get_counts(circuit)\n",
        "\n",
        "plot_histogram([counts])"
      ],
      "metadata": {
        "colab": {
          "base_uri": "https://localhost:8080/",
          "height": 461
        },
        "id": "_yUa9lki7VE-",
        "outputId": "d240ee0b-0d1e-45bf-8bf7-dae8add02e1f"
      },
      "execution_count": null,
      "outputs": [
        {
          "output_type": "execute_result",
          "data": {
            "text/plain": [
              "<Figure size 700x500 with 1 Axes>"
            ],
            "image/png": "[encoded data removed]"
          },
          "metadata": {},
          "execution_count": 12
        }
      ]
    }
  ]
}